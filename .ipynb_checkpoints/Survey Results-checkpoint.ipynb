{
 "cells": [
  {
   "cell_type": "code",
   "execution_count": null,
   "id": "9377cf9c",
   "metadata": {},
   "outputs": [],
   "source": [
    "import pandas as pd"
   ]
  },
  {
   "cell_type": "code",
   "execution_count": null,
   "id": "2902e920",
   "metadata": {},
   "outputs": [],
   "source": [
    "pd.options.display.max_colwidth=300"
   ]
  },
  {
   "cell_type": "code",
   "execution_count": null,
   "id": "5d5b8cf5",
   "metadata": {},
   "outputs": [],
   "source": [
    "surveyDF=pd.read_csv(\"survey_results_public.csv\")\n",
    "surveyDF"
   ]
  },
  {
   "cell_type": "code",
   "execution_count": null,
   "id": "baed1f28",
   "metadata": {},
   "outputs": [],
   "source": [
    "surveyDF.drop(['ResponseId','LearnCode','LearnCodeOnline','LearnCodeCoursesCert','OrgSize','VersionControlSystem','SurveyEase', \n",
    "               'SurveyLength',\n",
    "               'TBranch','ICorPM','Knowledge_1',\n",
    "                       'Knowledge_1','Knowledge_2','Knowledge_3','Knowledge_4','Knowledge_5','Knowledge_6','Knowledge_7',\n",
    "                       'CodingActivities','YearsCode','PurchaseInfluence','BuyNewTool',\n",
    "                       'VersionControlSystem','VCInteraction','VCHostingPersonal use','VCHostingProfessional use'\n",
    "                       ,'OfficeStackAsyncWantToWorkWith','OfficeStackSyncHaveWorkedWith','Blockchain','SOAccount','SOPartFreq',\n",
    "                       'Frequency_1','Frequency_2','Frequency_3','TimeSearching','TimeAnswering','TrueFalse_1','TrueFalse_2',\n",
    "                       'TrueFalse_3','ConvertedCompYearly','Accessibility','NEWSOSites','SOVisitFreq','SOComm'\n",
    "              ,'Onboarding','OfficeStackSyncWantToWorkWith','LanguageWantToWorkWith','WebframeWantToWorkWith',\n",
    "              'DatabaseWantToWorkWith','NEWCollabToolsWantToWorkWith','PlatformWantToWorkWith','MiscTechWantToWorkWith',\n",
    "              'ToolsTechWantToWorkWith'],\n",
    "              axis=1,inplace=True)\n",
    "surveyDF.head(10)"
   ]
  },
  {
   "cell_type": "code",
   "execution_count": null,
   "id": "4472bc4e",
   "metadata": {},
   "outputs": [],
   "source": [
    "surveyDF.dropna(how=(\"any\"),inplace=True)\n",
    "surveyDF"
   ]
  },
  {
   "cell_type": "code",
   "execution_count": null,
   "id": "72d4cc46",
   "metadata": {},
   "outputs": [],
   "source": [
    "newDF=surveyDF.reset_index(drop=True)\n",
    "newDF"
   ]
  },
  {
   "cell_type": "code",
   "execution_count": null,
   "id": "7a8dea8b",
   "metadata": {},
   "outputs": [],
   "source": [
    "newDF.info()"
   ]
  },
  {
   "cell_type": "code",
   "execution_count": null,
   "id": "6edf7a6b",
   "metadata": {},
   "outputs": [],
   "source": [
    "newDF[\"WorkExp\"].astype(\"float\")"
   ]
  },
  {
   "cell_type": "code",
   "execution_count": null,
   "id": "b0cb8e7b",
   "metadata": {},
   "outputs": [],
   "source": [
    "newDF[\"YearsCodePro\"]=newDF[\"YearsCodePro\"].str.replace(\"Less than 1 year\",\"1\")\n",
    "newDF"
   ]
  },
  {
   "cell_type": "code",
   "execution_count": null,
   "id": "5ca1a851",
   "metadata": {},
   "outputs": [],
   "source": [
    "newDF[\"YearsCodePro\"].astype(\"float\")"
   ]
  },
  {
   "cell_type": "code",
   "execution_count": null,
   "id": "eed51107",
   "metadata": {},
   "outputs": [],
   "source": [
    "newDF.to_csv(\"clea\")"
   ]
  }
 ],
 "metadata": {
  "kernelspec": {
   "display_name": "Python 3 (ipykernel)",
   "language": "python",
   "name": "python3"
  },
  "language_info": {
   "codemirror_mode": {
    "name": "ipython",
    "version": 3
   },
   "file_extension": ".py",
   "mimetype": "text/x-python",
   "name": "python",
   "nbconvert_exporter": "python",
   "pygments_lexer": "ipython3",
   "version": "3.9.13"
  }
 },
 "nbformat": 4,
 "nbformat_minor": 5
}
